{
  "nbformat": 4,
  "nbformat_minor": 0,
  "metadata": {
    "colab": {
      "name": "BioNLP-Teste_1",
      "provenance": [],
      "collapsed_sections": [
        "Zui04LfGjxiA",
        "Ba3kJ31Gkj13"
      ]
    },
    "kernelspec": {
      "name": "python3",
      "display_name": "Python 3"
    },
    "widgets": {
      "application/vnd.jupyter.widget-state+json": {
        "c031624f1a1b4e2889639213d3e3e7d1": {
          "model_module": "@jupyter-widgets/controls",
          "model_name": "HBoxModel",
          "state": {
            "_view_name": "HBoxView",
            "_dom_classes": [],
            "_model_name": "HBoxModel",
            "_view_module": "@jupyter-widgets/controls",
            "_model_module_version": "1.5.0",
            "_view_count": null,
            "_view_module_version": "1.5.0",
            "box_style": "",
            "layout": "IPY_MODEL_8b378b0f0c494cf283a66fb68b63494e",
            "_model_module": "@jupyter-widgets/controls",
            "children": [
              "IPY_MODEL_021d54676cad4820b0b2dda043e49091",
              "IPY_MODEL_358522a0126949d683715c16527d37cc"
            ]
          }
        },
        "8b378b0f0c494cf283a66fb68b63494e": {
          "model_module": "@jupyter-widgets/base",
          "model_name": "LayoutModel",
          "state": {
            "_view_name": "LayoutView",
            "grid_template_rows": null,
            "right": null,
            "justify_content": null,
            "_view_module": "@jupyter-widgets/base",
            "overflow": null,
            "_model_module_version": "1.2.0",
            "_view_count": null,
            "flex_flow": null,
            "width": null,
            "min_width": null,
            "border": null,
            "align_items": null,
            "bottom": null,
            "_model_module": "@jupyter-widgets/base",
            "top": null,
            "grid_column": null,
            "overflow_y": null,
            "overflow_x": null,
            "grid_auto_flow": null,
            "grid_area": null,
            "grid_template_columns": null,
            "flex": null,
            "_model_name": "LayoutModel",
            "justify_items": null,
            "grid_row": null,
            "max_height": null,
            "align_content": null,
            "visibility": null,
            "align_self": null,
            "height": null,
            "min_height": null,
            "padding": null,
            "grid_auto_rows": null,
            "grid_gap": null,
            "max_width": null,
            "order": null,
            "_view_module_version": "1.2.0",
            "grid_template_areas": null,
            "object_position": null,
            "object_fit": null,
            "grid_auto_columns": null,
            "margin": null,
            "display": null,
            "left": null
          }
        },
        "021d54676cad4820b0b2dda043e49091": {
          "model_module": "@jupyter-widgets/controls",
          "model_name": "FloatProgressModel",
          "state": {
            "_view_name": "ProgressView",
            "style": "IPY_MODEL_4ac204575dde4c3e8a3960ef2378e046",
            "_dom_classes": [],
            "description": "100%",
            "_model_name": "FloatProgressModel",
            "bar_style": "success",
            "max": 377,
            "_view_module": "@jupyter-widgets/controls",
            "_model_module_version": "1.5.0",
            "value": 377,
            "_view_count": null,
            "_view_module_version": "1.5.0",
            "orientation": "horizontal",
            "min": 0,
            "description_tooltip": null,
            "_model_module": "@jupyter-widgets/controls",
            "layout": "IPY_MODEL_2cfc858b61034cdcba7547e6929e81a1"
          }
        },
        "358522a0126949d683715c16527d37cc": {
          "model_module": "@jupyter-widgets/controls",
          "model_name": "HTMLModel",
          "state": {
            "_view_name": "HTMLView",
            "style": "IPY_MODEL_5dea4e7e987a4d70bb090c3beb18f58f",
            "_dom_classes": [],
            "description": "",
            "_model_name": "HTMLModel",
            "placeholder": "​",
            "_view_module": "@jupyter-widgets/controls",
            "_model_module_version": "1.5.0",
            "value": " 377/377 [00:03&lt;00:00, 102.39it/s]",
            "_view_count": null,
            "_view_module_version": "1.5.0",
            "description_tooltip": null,
            "_model_module": "@jupyter-widgets/controls",
            "layout": "IPY_MODEL_c64a8e8cf31b4ecfb89bef9bbd06705c"
          }
        },
        "4ac204575dde4c3e8a3960ef2378e046": {
          "model_module": "@jupyter-widgets/controls",
          "model_name": "ProgressStyleModel",
          "state": {
            "_view_name": "StyleView",
            "_model_name": "ProgressStyleModel",
            "description_width": "initial",
            "_view_module": "@jupyter-widgets/base",
            "_model_module_version": "1.5.0",
            "_view_count": null,
            "_view_module_version": "1.2.0",
            "bar_color": null,
            "_model_module": "@jupyter-widgets/controls"
          }
        },
        "2cfc858b61034cdcba7547e6929e81a1": {
          "model_module": "@jupyter-widgets/base",
          "model_name": "LayoutModel",
          "state": {
            "_view_name": "LayoutView",
            "grid_template_rows": null,
            "right": null,
            "justify_content": null,
            "_view_module": "@jupyter-widgets/base",
            "overflow": null,
            "_model_module_version": "1.2.0",
            "_view_count": null,
            "flex_flow": null,
            "width": null,
            "min_width": null,
            "border": null,
            "align_items": null,
            "bottom": null,
            "_model_module": "@jupyter-widgets/base",
            "top": null,
            "grid_column": null,
            "overflow_y": null,
            "overflow_x": null,
            "grid_auto_flow": null,
            "grid_area": null,
            "grid_template_columns": null,
            "flex": null,
            "_model_name": "LayoutModel",
            "justify_items": null,
            "grid_row": null,
            "max_height": null,
            "align_content": null,
            "visibility": null,
            "align_self": null,
            "height": null,
            "min_height": null,
            "padding": null,
            "grid_auto_rows": null,
            "grid_gap": null,
            "max_width": null,
            "order": null,
            "_view_module_version": "1.2.0",
            "grid_template_areas": null,
            "object_position": null,
            "object_fit": null,
            "grid_auto_columns": null,
            "margin": null,
            "display": null,
            "left": null
          }
        },
        "5dea4e7e987a4d70bb090c3beb18f58f": {
          "model_module": "@jupyter-widgets/controls",
          "model_name": "DescriptionStyleModel",
          "state": {
            "_view_name": "StyleView",
            "_model_name": "DescriptionStyleModel",
            "description_width": "",
            "_view_module": "@jupyter-widgets/base",
            "_model_module_version": "1.5.0",
            "_view_count": null,
            "_view_module_version": "1.2.0",
            "_model_module": "@jupyter-widgets/controls"
          }
        },
        "c64a8e8cf31b4ecfb89bef9bbd06705c": {
          "model_module": "@jupyter-widgets/base",
          "model_name": "LayoutModel",
          "state": {
            "_view_name": "LayoutView",
            "grid_template_rows": null,
            "right": null,
            "justify_content": null,
            "_view_module": "@jupyter-widgets/base",
            "overflow": null,
            "_model_module_version": "1.2.0",
            "_view_count": null,
            "flex_flow": null,
            "width": null,
            "min_width": null,
            "border": null,
            "align_items": null,
            "bottom": null,
            "_model_module": "@jupyter-widgets/base",
            "top": null,
            "grid_column": null,
            "overflow_y": null,
            "overflow_x": null,
            "grid_auto_flow": null,
            "grid_area": null,
            "grid_template_columns": null,
            "flex": null,
            "_model_name": "LayoutModel",
            "justify_items": null,
            "grid_row": null,
            "max_height": null,
            "align_content": null,
            "visibility": null,
            "align_self": null,
            "height": null,
            "min_height": null,
            "padding": null,
            "grid_auto_rows": null,
            "grid_gap": null,
            "max_width": null,
            "order": null,
            "_view_module_version": "1.2.0",
            "grid_template_areas": null,
            "object_position": null,
            "object_fit": null,
            "grid_auto_columns": null,
            "margin": null,
            "display": null,
            "left": null
          }
        },
        "b0ca31cabf834c1783ad1c71415ef7cc": {
          "model_module": "@jupyter-widgets/controls",
          "model_name": "HBoxModel",
          "state": {
            "_view_name": "HBoxView",
            "_dom_classes": [],
            "_model_name": "HBoxModel",
            "_view_module": "@jupyter-widgets/controls",
            "_model_module_version": "1.5.0",
            "_view_count": null,
            "_view_module_version": "1.5.0",
            "box_style": "",
            "layout": "IPY_MODEL_1732630888c246cb81628210d8c99450",
            "_model_module": "@jupyter-widgets/controls",
            "children": [
              "IPY_MODEL_1bd2bfe3519943b485e058bd65a2c9b6",
              "IPY_MODEL_f2c7dfd8e96543d7a5c7e3e6ee77f9e8"
            ]
          }
        },
        "1732630888c246cb81628210d8c99450": {
          "model_module": "@jupyter-widgets/base",
          "model_name": "LayoutModel",
          "state": {
            "_view_name": "LayoutView",
            "grid_template_rows": null,
            "right": null,
            "justify_content": null,
            "_view_module": "@jupyter-widgets/base",
            "overflow": null,
            "_model_module_version": "1.2.0",
            "_view_count": null,
            "flex_flow": null,
            "width": null,
            "min_width": null,
            "border": null,
            "align_items": null,
            "bottom": null,
            "_model_module": "@jupyter-widgets/base",
            "top": null,
            "grid_column": null,
            "overflow_y": null,
            "overflow_x": null,
            "grid_auto_flow": null,
            "grid_area": null,
            "grid_template_columns": null,
            "flex": null,
            "_model_name": "LayoutModel",
            "justify_items": null,
            "grid_row": null,
            "max_height": null,
            "align_content": null,
            "visibility": null,
            "align_self": null,
            "height": null,
            "min_height": null,
            "padding": null,
            "grid_auto_rows": null,
            "grid_gap": null,
            "max_width": null,
            "order": null,
            "_view_module_version": "1.2.0",
            "grid_template_areas": null,
            "object_position": null,
            "object_fit": null,
            "grid_auto_columns": null,
            "margin": null,
            "display": null,
            "left": null
          }
        },
        "1bd2bfe3519943b485e058bd65a2c9b6": {
          "model_module": "@jupyter-widgets/controls",
          "model_name": "FloatProgressModel",
          "state": {
            "_view_name": "ProgressView",
            "style": "IPY_MODEL_ce8dbd0c130d4bb2af1bef08dce74d1c",
            "_dom_classes": [],
            "description": "100%",
            "_model_name": "FloatProgressModel",
            "bar_style": "success",
            "max": 194,
            "_view_module": "@jupyter-widgets/controls",
            "_model_module_version": "1.5.0",
            "value": 194,
            "_view_count": null,
            "_view_module_version": "1.5.0",
            "orientation": "horizontal",
            "min": 0,
            "description_tooltip": null,
            "_model_module": "@jupyter-widgets/controls",
            "layout": "IPY_MODEL_9f128a51c70f43c78203b935e67c3bc5"
          }
        },
        "f2c7dfd8e96543d7a5c7e3e6ee77f9e8": {
          "model_module": "@jupyter-widgets/controls",
          "model_name": "HTMLModel",
          "state": {
            "_view_name": "HTMLView",
            "style": "IPY_MODEL_90516f2c535042cfb43ad48374aa93b4",
            "_dom_classes": [],
            "description": "",
            "_model_name": "HTMLModel",
            "placeholder": "​",
            "_view_module": "@jupyter-widgets/controls",
            "_model_module_version": "1.5.0",
            "value": " 194/194 [00:01&lt;00:00, 108.22it/s]",
            "_view_count": null,
            "_view_module_version": "1.5.0",
            "description_tooltip": null,
            "_model_module": "@jupyter-widgets/controls",
            "layout": "IPY_MODEL_767c96a53e104608a082ca0c67c74948"
          }
        },
        "ce8dbd0c130d4bb2af1bef08dce74d1c": {
          "model_module": "@jupyter-widgets/controls",
          "model_name": "ProgressStyleModel",
          "state": {
            "_view_name": "StyleView",
            "_model_name": "ProgressStyleModel",
            "description_width": "initial",
            "_view_module": "@jupyter-widgets/base",
            "_model_module_version": "1.5.0",
            "_view_count": null,
            "_view_module_version": "1.2.0",
            "bar_color": null,
            "_model_module": "@jupyter-widgets/controls"
          }
        },
        "9f128a51c70f43c78203b935e67c3bc5": {
          "model_module": "@jupyter-widgets/base",
          "model_name": "LayoutModel",
          "state": {
            "_view_name": "LayoutView",
            "grid_template_rows": null,
            "right": null,
            "justify_content": null,
            "_view_module": "@jupyter-widgets/base",
            "overflow": null,
            "_model_module_version": "1.2.0",
            "_view_count": null,
            "flex_flow": null,
            "width": null,
            "min_width": null,
            "border": null,
            "align_items": null,
            "bottom": null,
            "_model_module": "@jupyter-widgets/base",
            "top": null,
            "grid_column": null,
            "overflow_y": null,
            "overflow_x": null,
            "grid_auto_flow": null,
            "grid_area": null,
            "grid_template_columns": null,
            "flex": null,
            "_model_name": "LayoutModel",
            "justify_items": null,
            "grid_row": null,
            "max_height": null,
            "align_content": null,
            "visibility": null,
            "align_self": null,
            "height": null,
            "min_height": null,
            "padding": null,
            "grid_auto_rows": null,
            "grid_gap": null,
            "max_width": null,
            "order": null,
            "_view_module_version": "1.2.0",
            "grid_template_areas": null,
            "object_position": null,
            "object_fit": null,
            "grid_auto_columns": null,
            "margin": null,
            "display": null,
            "left": null
          }
        },
        "90516f2c535042cfb43ad48374aa93b4": {
          "model_module": "@jupyter-widgets/controls",
          "model_name": "DescriptionStyleModel",
          "state": {
            "_view_name": "StyleView",
            "_model_name": "DescriptionStyleModel",
            "description_width": "",
            "_view_module": "@jupyter-widgets/base",
            "_model_module_version": "1.5.0",
            "_view_count": null,
            "_view_module_version": "1.2.0",
            "_model_module": "@jupyter-widgets/controls"
          }
        },
        "767c96a53e104608a082ca0c67c74948": {
          "model_module": "@jupyter-widgets/base",
          "model_name": "LayoutModel",
          "state": {
            "_view_name": "LayoutView",
            "grid_template_rows": null,
            "right": null,
            "justify_content": null,
            "_view_module": "@jupyter-widgets/base",
            "overflow": null,
            "_model_module_version": "1.2.0",
            "_view_count": null,
            "flex_flow": null,
            "width": null,
            "min_width": null,
            "border": null,
            "align_items": null,
            "bottom": null,
            "_model_module": "@jupyter-widgets/base",
            "top": null,
            "grid_column": null,
            "overflow_y": null,
            "overflow_x": null,
            "grid_auto_flow": null,
            "grid_area": null,
            "grid_template_columns": null,
            "flex": null,
            "_model_name": "LayoutModel",
            "justify_items": null,
            "grid_row": null,
            "max_height": null,
            "align_content": null,
            "visibility": null,
            "align_self": null,
            "height": null,
            "min_height": null,
            "padding": null,
            "grid_auto_rows": null,
            "grid_gap": null,
            "max_width": null,
            "order": null,
            "_view_module_version": "1.2.0",
            "grid_template_areas": null,
            "object_position": null,
            "object_fit": null,
            "grid_auto_columns": null,
            "margin": null,
            "display": null,
            "left": null
          }
        }
      }
    }
  },
  "cells": [
    {
      "cell_type": "code",
      "metadata": {
        "id": "OKwEg7Rhf1Vx",
        "colab_type": "code",
        "colab": {}
      },
      "source": [
        "import pandas as pd\n",
        "import sklearn\n",
        "import numpy as np\n",
        "from tqdm import tqdm_notebook\n",
        "import os,time\n",
        "from nltk.tokenize import word_tokenize, sent_tokenize\n",
        "from nltk.corpus import stopwords\n",
        "import re\n",
        "import nltk\n",
        "from gensim.models import Word2Vec\n",
        "from sklearn import preprocessing\n",
        "from sklearn.ensemble import RandomForestClassifier\n",
        "from sklearn.metrics import accuracy_score, confusion_matrix\n",
        "from sklearn.metrics import classification_report\n",
        "from sklearn import svm\n"
      ],
      "execution_count": null,
      "outputs": []
    },
    {
      "cell_type": "code",
      "metadata": {
        "id": "2peEUVEukriA",
        "colab_type": "code",
        "colab": {
          "base_uri": "https://localhost:8080/",
          "height": 85
        },
        "outputId": "2e9da06b-df9e-496f-d86b-e908412139ff"
      },
      "source": [
        "nltk.download('stopwords')\n",
        "nltk.download('punkt')\n",
        "rnd = 42"
      ],
      "execution_count": null,
      "outputs": [
        {
          "output_type": "stream",
          "text": [
            "[nltk_data] Downloading package stopwords to /root/nltk_data...\n",
            "[nltk_data]   Package stopwords is already up-to-date!\n",
            "[nltk_data] Downloading package punkt to /root/nltk_data...\n",
            "[nltk_data]   Package punkt is already up-to-date!\n"
          ],
          "name": "stdout"
        }
      ]
    },
    {
      "cell_type": "markdown",
      "metadata": {
        "id": "9pcOSSK_jz4z",
        "colab_type": "text"
      },
      "source": [
        "# Carregar dados"
      ]
    },
    {
      "cell_type": "code",
      "metadata": {
        "id": "-hB_dQwjgMI_",
        "colab_type": "code",
        "colab": {
          "base_uri": "https://localhost:8080/",
          "height": 34
        },
        "outputId": "1b50a838-6d7c-447e-fbf4-9392fd0a7424"
      },
      "source": [
        "from google.colab import drive\n",
        "drive.mount('/content/drive')"
      ],
      "execution_count": null,
      "outputs": [
        {
          "output_type": "stream",
          "text": [
            "Drive already mounted at /content/drive; to attempt to forcibly remount, call drive.mount(\"/content/drive\", force_remount=True).\n"
          ],
          "name": "stdout"
        }
      ]
    },
    {
      "cell_type": "code",
      "metadata": {
        "id": "lFf9Chw7gWW4",
        "colab_type": "code",
        "colab": {}
      },
      "source": [
        "uri_dev   = '/content/drive/My Drive/BioNLP/BioNLP-OST-2019_BB-rel_dev'\n",
        "url_test  = '/content/drive/My Drive/BioNLP/BioNLP-OST-2019_BB-rel_test'\n",
        "uri_trein = '/content/drive/My Drive/BioNLP/BioNLP-OST-2019_BB-rel_train'"
      ],
      "execution_count": null,
      "outputs": []
    },
    {
      "cell_type": "code",
      "metadata": {
        "id": "ypDk0iOogsie",
        "colab_type": "code",
        "colab": {}
      },
      "source": [
        "train_files = os.listdir(path=uri_trein)\n",
        "valid_files = os.listdir(path=uri_dev)\n",
        "test_files = os.listdir(path=url_test)"
      ],
      "execution_count": null,
      "outputs": []
    },
    {
      "cell_type": "code",
      "metadata": {
        "id": "F9hYbgGug6e2",
        "colab_type": "code",
        "colab": {}
      },
      "source": [
        "def get_data_files(files, types):\n",
        "    a1_df = pd.DataFrame(columns=['Words','sc_ec','Entity'])\n",
        "    a2_df = pd.DataFrame(columns = ['Relation','word_1','word_2'])\n",
        "\n",
        " \n",
        "    for file in tqdm_notebook(files):\n",
        "        if file.endswith('.a1'):\n",
        "\n",
        "            if (os.path.getsize(f'/content/drive/My Drive/BioNLP/BioNLP-OST-2019_BB-rel_{types}/{file}') > 0 ):\n",
        "                a1 = pd.read_csv(f'/content/drive/My Drive/BioNLP/BioNLP-OST-2019_BB-rel_{types}/{file}',sep='\\t',header=None)\n",
        "                spl = a1[1].str.split(' ',n=1,expand=True)\n",
        "                a1['Words'] = a1[2]\n",
        "                a1['sc_ec'] = spl[1]\n",
        "                a1['Entity'] = spl[0]\n",
        "                a1.drop([1,2],axis=1,inplace=True)\n",
        "                a1_df = a1_df.append(a1,ignore_index=True,sort=True)\n",
        "\n",
        "\n",
        "                file = file.split(sep='.')\n",
        "                if(os.path.getsize(f'/content/drive/My Drive/BioNLP/BioNLP-OST-2019_BB-rel_{types}/{file[0]}.a2') > 0):\n",
        "                    a2 = pd.read_csv(f'/content/drive/My Drive/BioNLP/BioNLP-OST-2019_BB-rel_{types}/{file[0]}.a2',sep = '\\t',header=None)\n",
        "                    spl = a2[1].str.split(' ',n = 2,expand= True)\n",
        "                    spl_1 = spl[1].str.split(':',n = 1,expand=True)\n",
        "                    spl_2 = spl[2].str.split(':',n = 1,expand=True)\n",
        "\n",
        "                    a2['Relation'] = spl[0]\n",
        "                    a2['w_1'] = spl_1[1]\n",
        "                    a2['w_2'] = spl_2[1]\n",
        "\n",
        "                    me = pd.merge(a2,a1[[0,'Words']],how='left',\n",
        "                                     left_on = ['w_1'],\n",
        "                                     right_on = [0])\n",
        "                    a2['word_1'] = me['Words']\n",
        "                    del me\n",
        "                    me = pd.merge(a2,a1[[0,'Words']],how='left',\n",
        "                                     left_on = ['w_2'],\n",
        "                                     right_on = [0])\n",
        "                    a2['word_2'] = me['Words']\n",
        "                    del me\n",
        "\n",
        "                    a2.drop([1,'w_1','w_2'],axis = 1,inplace = True)\n",
        "                    a2_df = a2_df.append(a2,ignore_index=True,sort=True)\n",
        "                    del a1,a2\n",
        "                    \n",
        "                    a1_df.drop([0],axis=1,inplace = True)\n",
        "                    \n",
        "    return a1_df,a2_df\n"
      ],
      "execution_count": null,
      "outputs": []
    },
    {
      "cell_type": "code",
      "metadata": {
        "id": "hsCWlARbhJZJ",
        "colab_type": "code",
        "colab": {
          "base_uri": "https://localhost:8080/",
          "height": 166,
          "referenced_widgets": [
            "c031624f1a1b4e2889639213d3e3e7d1",
            "8b378b0f0c494cf283a66fb68b63494e",
            "021d54676cad4820b0b2dda043e49091",
            "358522a0126949d683715c16527d37cc",
            "4ac204575dde4c3e8a3960ef2378e046",
            "2cfc858b61034cdcba7547e6929e81a1",
            "5dea4e7e987a4d70bb090c3beb18f58f",
            "c64a8e8cf31b4ecfb89bef9bbd06705c",
            "b0ca31cabf834c1783ad1c71415ef7cc",
            "1732630888c246cb81628210d8c99450",
            "1bd2bfe3519943b485e058bd65a2c9b6",
            "f2c7dfd8e96543d7a5c7e3e6ee77f9e8",
            "ce8dbd0c130d4bb2af1bef08dce74d1c",
            "9f128a51c70f43c78203b935e67c3bc5",
            "90516f2c535042cfb43ad48374aa93b4",
            "767c96a53e104608a082ca0c67c74948"
          ]
        },
        "outputId": "1819eb58-f21e-4e74-a513-b94ddb8e9196"
      },
      "source": [
        "train_a1,train_a2 = get_data_files(train_files,'train')\n",
        "valid_a1,valid_a2 = get_data_files(valid_files,'dev')\n",
        "\n"
      ],
      "execution_count": null,
      "outputs": [
        {
          "output_type": "stream",
          "text": [
            "/usr/local/lib/python3.6/dist-packages/ipykernel_launcher.py:6: TqdmDeprecationWarning: This function will be removed in tqdm==5.0.0\n",
            "Please use `tqdm.notebook.tqdm` instead of `tqdm.tqdm_notebook`\n",
            "  \n"
          ],
          "name": "stderr"
        },
        {
          "output_type": "display_data",
          "data": {
            "application/vnd.jupyter.widget-view+json": {
              "model_id": "c031624f1a1b4e2889639213d3e3e7d1",
              "version_minor": 0,
              "version_major": 2
            },
            "text/plain": [
              "HBox(children=(FloatProgress(value=0.0, max=377.0), HTML(value='')))"
            ]
          },
          "metadata": {
            "tags": []
          }
        },
        {
          "output_type": "stream",
          "text": [
            "\n"
          ],
          "name": "stdout"
        },
        {
          "output_type": "display_data",
          "data": {
            "application/vnd.jupyter.widget-view+json": {
              "model_id": "b0ca31cabf834c1783ad1c71415ef7cc",
              "version_minor": 0,
              "version_major": 2
            },
            "text/plain": [
              "HBox(children=(FloatProgress(value=0.0, max=194.0), HTML(value='')))"
            ]
          },
          "metadata": {
            "tags": []
          }
        },
        {
          "output_type": "stream",
          "text": [
            "\n"
          ],
          "name": "stdout"
        }
      ]
    },
    {
      "cell_type": "code",
      "metadata": {
        "id": "qVlKWeMnhPnf",
        "colab_type": "code",
        "colab": {}
      },
      "source": [
        "train_a1.drop(train_a1[train_a1['Entity'] == 'Title'].index,axis=0,inplace=True)\n",
        "train_a1.drop(train_a1[train_a1['Entity'] == 'Paragraph'].index,axis=0,inplace=True)\n",
        "\n",
        "valid_a1.drop(valid_a1[valid_a1['Entity'] == 'Title'].index,axis=0,inplace=True)\n",
        "valid_a1.drop(valid_a1[valid_a1['Entity'] == 'Paragraph'].index,axis=0,inplace=True)\n",
        "\n"
      ],
      "execution_count": null,
      "outputs": []
    },
    {
      "cell_type": "code",
      "metadata": {
        "id": "dL4N3K0eirHP",
        "colab_type": "code",
        "colab": {}
      },
      "source": [
        "\n",
        "train_a2.drop([0],axis=1,inplace=True)\n",
        "valid_a2.drop([0],axis=1,inplace=True)\n",
        "\n",
        "na_inx = train_a2[train_a2['Relation'] == 'Equiv'].index.values\n",
        "train_a2.drop(na_inx,inplace=True)\n",
        "\n",
        "na_inx = valid_a2[valid_a2['Relation'] == 'Equiv'].index.values\n",
        "valid_a2.drop(na_inx,inplace=True)\n"
      ],
      "execution_count": null,
      "outputs": []
    },
    {
      "cell_type": "markdown",
      "metadata": {
        "id": "Zui04LfGjxiA",
        "colab_type": "text"
      },
      "source": [
        "# stop words"
      ]
    },
    {
      "cell_type": "code",
      "metadata": {
        "id": "Lk2qGrX3jw1X",
        "colab_type": "code",
        "colab": {}
      },
      "source": [
        "def clean_data(txts):\n",
        "    x = re.sub(\"[^a-zA-Z0-9]\", \" \",txts) \n",
        "    x = x.lower().split()                             \n",
        "    stops = set(stopwords.words(\"english\"))                  \n",
        "    words = [w for w in x if not w in stops] \n",
        "    \n",
        "    return( \" \".join(words))"
      ],
      "execution_count": null,
      "outputs": []
    },
    {
      "cell_type": "code",
      "metadata": {
        "id": "2BO4zauVj-ll",
        "colab_type": "code",
        "colab": {}
      },
      "source": [
        "train_a2['word_1'] = train_a2['word_1'].apply(lambda x: clean_data(x))\n",
        "train_a2['word_2'] = train_a2['word_2'].apply(lambda x: clean_data(x))\n",
        "\n",
        "valid_a2['word_1'] = valid_a2['word_1'].apply(lambda x: clean_data(x))\n",
        "valid_a2['word_2'] = valid_a2['word_2'].apply(lambda x: clean_data(x))\n",
        "\n",
        "\n",
        "train_a2['combined_word'] = train_a2[['word_1', 'word_2']].apply(lambda x: ' '.join(x), axis=1)\n",
        "valid_a2['combined_word'] = valid_a2[['word_1', 'word_2']].apply(lambda x: ' '.join(x), axis=1)"
      ],
      "execution_count": null,
      "outputs": []
    },
    {
      "cell_type": "code",
      "metadata": {
        "id": "3o6QJAZE68_6",
        "colab_type": "code",
        "colab": {}
      },
      "source": [
        "train_words = train_a2['combined_word'].tolist()\n",
        "train_relation = train_a2['Relation'].tolist()\n",
        "\n",
        "valid_words = valid_a2['combined_word'].tolist()\n",
        "valid_relation = valid_a2['Relation'].tolist()"
      ],
      "execution_count": null,
      "outputs": []
    },
    {
      "cell_type": "code",
      "metadata": {
        "id": "SFpaLrK46Nc0",
        "colab_type": "code",
        "colab": {}
      },
      "source": [
        "train_words1 = train_a2['word_1'].tolist()\n",
        "train_words2 = train_a2['word_2'].tolist()\n",
        "\n",
        "valid_words1 = valid_a2['word_1'].tolist()\n",
        "valid_words2 = valid_a2['word_2'].tolist()\n",
        "\n",
        "corpus = []\n",
        "for i in range(len(train_words)):\n",
        "    corpus.append(word_tokenize(train_words[i]))\n",
        "\n",
        "\n",
        "for i in range(len(valid_words)):\n",
        "    corpus.append(word_tokenize(valid_words[i]))   \n",
        "\n",
        "train=[]\n",
        "for i in range(len(train_words)):\n",
        "    train.append(word_tokenize(train_words[i]))\n",
        "\n",
        "\n",
        "valid=[]\n",
        "for i in range(len(valid_words)):\n",
        "    valid.append(word_tokenize(valid_words[i]))    \n",
        "\n",
        "model = Word2Vec(corpus, size=50, window=2, min_count=1)         "
      ],
      "execution_count": null,
      "outputs": []
    },
    {
      "cell_type": "markdown",
      "metadata": {
        "id": "Ba3kJ31Gkj13",
        "colab_type": "text"
      },
      "source": [
        "#Corpus"
      ]
    },
    {
      "cell_type": "code",
      "metadata": {
        "id": "-GD0Rfplkatu",
        "colab_type": "code",
        "colab": {}
      },
      "source": [
        "train_words = train_a2['combined_word'].tolist()\n",
        "train_relation = train_a2['Relation'].tolist()\n",
        "\n",
        "valid_words = valid_a2['combined_word'].tolist()\n",
        "valid_relation = valid_a2['Relation'].tolist()"
      ],
      "execution_count": null,
      "outputs": []
    },
    {
      "cell_type": "markdown",
      "metadata": {
        "id": "rYiAOe85lCHR",
        "colab_type": "text"
      },
      "source": [
        "## Feature extraction W2V"
      ]
    },
    {
      "cell_type": "code",
      "metadata": {
        "id": "NtFH6IculVtv",
        "colab_type": "code",
        "colab": {}
      },
      "source": [
        "X_train= np.zeros((len(train),50)) \n",
        "\n",
        "for i in range(len(train)):\n",
        "    emb = [model.wv[w] for w in train[i]] \n",
        "    X_train[i] = np.mean(emb, axis=0) "
      ],
      "execution_count": null,
      "outputs": []
    },
    {
      "cell_type": "code",
      "metadata": {
        "id": "_gVp2bn_lg49",
        "colab_type": "code",
        "colab": {}
      },
      "source": [
        "\n",
        "X_valid= np.zeros((len(valid),50)) \n",
        "for i in range(len(valid)):\n",
        "    emb = [model.wv[w] for w in valid[i]] \n",
        "    X_valid[i] = np.mean(emb, axis=0) "
      ],
      "execution_count": null,
      "outputs": []
    },
    {
      "cell_type": "code",
      "metadata": {
        "id": "pn-Xamp_lyPI",
        "colab_type": "code",
        "colab": {}
      },
      "source": [
        "le = preprocessing.LabelEncoder()\n",
        "Y_train = le.fit_transform(train_relation)\n",
        "Y_valid = le.fit_transform(valid_relation)"
      ],
      "execution_count": null,
      "outputs": []
    },
    {
      "cell_type": "code",
      "metadata": {
        "id": "ULKbT7ft2aFH",
        "colab_type": "code",
        "colab": {}
      },
      "source": [
        "train_words1 = train_a2['word_1'].tolist()\n",
        "train_words2 = train_a2['word_2'].tolist()\n",
        "\n",
        "valid_words1 = valid_a2['word_1'].tolist()\n",
        "valid_words2 = valid_a2['word_2'].tolist()\n",
        "\n",
        "corpus = []\n",
        "for i in range(len(train_words1)):\n",
        "    corpus.append(word_tokenize(train_words1[i]))\n",
        "for i in range(len(train_words2)):\n",
        "    corpus.append(word_tokenize(train_words2[i]))\n",
        "for i in range(len(valid_words1)):\n",
        "    corpus.append(word_tokenize(valid_words1[i]))\n",
        "for i in range(len(valid_words2)):\n",
        "    corpus.append(word_tokenize(valid_words2[i]))\n",
        "\n",
        "model = Word2Vec(corpus, size=50, window=2, min_count=1)"
      ],
      "execution_count": null,
      "outputs": []
    },
    {
      "cell_type": "code",
      "metadata": {
        "id": "miv_Bzzht-Oh",
        "colab_type": "code",
        "colab": {}
      },
      "source": [
        "X1_train= np.zeros((len(train_words1),50)) \n",
        "\n",
        "for i in range(len(train_words1)):\n",
        "    words = word_tokenize(train_words1[i])\n",
        "    emb = [model.wv[w] for w in words] \n",
        "    X1_train[i] = np.mean(emb, axis=0) \n",
        "    \n",
        "    \n",
        "X2_train= np.zeros((len(train_words2),50)) \n",
        "\n",
        "for i in range(len(train_words2)):\n",
        "    words = word_tokenize(train_words2[i])\n",
        "    emb = [model.wv[w] for w in words] \n",
        "    X2_train[i] = np.mean(emb, axis=0)"
      ],
      "execution_count": null,
      "outputs": []
    },
    {
      "cell_type": "code",
      "metadata": {
        "id": "_Ej0iPiv2sOk",
        "colab_type": "code",
        "colab": {}
      },
      "source": [
        "X_train = np.concatenate((X1_train,X2_train),axis=1)"
      ],
      "execution_count": null,
      "outputs": []
    },
    {
      "cell_type": "code",
      "metadata": {
        "id": "Nhf76bva2yo7",
        "colab_type": "code",
        "colab": {}
      },
      "source": [
        "X1_valid= np.zeros((len(valid_words1),50)) \n",
        "\n",
        "for i in range(len(valid_words1)):\n",
        "    words = word_tokenize(valid_words1[i])\n",
        "    emb = [model.wv[w] for w in words] \n",
        "    X1_valid[i] = np.mean(emb, axis=0) \n",
        "    \n",
        "    \n",
        "X2_valid= np.zeros((len(valid_words2),50)) \n",
        "\n",
        "for i in range(len(valid_words2)):\n",
        "    words = word_tokenize(valid_words2[i])\n",
        "    emb = [model.wv[w] for w in words] \n",
        "    X2_valid[i] = np.mean(emb, axis=0) \n",
        "    \n",
        "X_valid = np.concatenate((X1_valid,X2_valid),axis=1)"
      ],
      "execution_count": null,
      "outputs": []
    },
    {
      "cell_type": "markdown",
      "metadata": {
        "id": "5lIzsmNTmPTR",
        "colab_type": "text"
      },
      "source": [
        "# Teste"
      ]
    },
    {
      "cell_type": "code",
      "metadata": {
        "id": "j6vOm1s8mRAU",
        "colab_type": "code",
        "colab": {
          "base_uri": "https://localhost:8080/",
          "height": 170
        },
        "outputId": "8dfa8d04-1927-4ccf-b39f-ac7821c9313e"
      },
      "source": [
        "rf = RandomForestClassifier(random_state=rnd)\n",
        "rf.fit(X_train,Y_train)\n",
        "pre = rf.predict(X_valid)\n",
        "print(classification_report(Y_valid, pre))"
      ],
      "execution_count": null,
      "outputs": [
        {
          "output_type": "stream",
          "text": [
            "              precision    recall  f1-score   support\n",
            "\n",
            "           0       0.90      0.34      0.50       154\n",
            "           1       0.82      0.99      0.89       454\n",
            "\n",
            "    accuracy                           0.82       608\n",
            "   macro avg       0.86      0.67      0.70       608\n",
            "weighted avg       0.84      0.82      0.79       608\n",
            "\n"
          ],
          "name": "stdout"
        }
      ]
    }
  ]
}